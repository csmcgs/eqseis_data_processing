{
 "cells": [
  {
   "cell_type": "markdown",
   "id": "593d8f49-df50-4be3-bb0b-6257a6663a5c",
   "metadata": {},
   "source": [
    "# GPGN455/555 EARTHQUAKE SEISMOLOGY - Seismic Data Processing Exercises\n",
    "\n",
    "Notebooks:\n",
    "\n",
    "- [Downloading and Processing the Data recorded at the Colorado School of Mines Campus](./campus_data/campus_data.ipynb)\n",
    "- [Processing and Comparing Real and Synthetic Data](./process_obsd_and_synt/Comparing_Observed_and_Synthetic_Data.ipynb)\n",
    "- [Noise Analysis of the Campus Data Based on 'Global quieting of high-frequency seismic noise due to COVID-19 pandemic lockdown measures' paper example code](seismorms/SeismoSocialDistancing.ipynb)"
   ]
  }
 ],
 "metadata": {
  "kernelspec": {
   "display_name": "Python 3 (ipykernel)",
   "language": "python",
   "name": "python3"
  },
  "language_info": {
   "codemirror_mode": {
    "name": "ipython",
    "version": 3
   },
   "file_extension": ".py",
   "mimetype": "text/x-python",
   "name": "python",
   "nbconvert_exporter": "python",
   "pygments_lexer": "ipython3",
   "version": "3.10.8"
  }
 },
 "nbformat": 4,
 "nbformat_minor": 5
}
