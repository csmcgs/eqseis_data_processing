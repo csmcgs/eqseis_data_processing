{
 "cells": [
  {
   "cell_type": "code",
   "execution_count": null,
   "metadata": {},
   "outputs": [],
   "source": [
    "%matplotlib inline\n",
    "from obspy.clients.fdsn.client import Client\n",
    "from obspy.clients.fdsn.mass_downloader import GlobalDomain\n",
    "from obspy.clients.fdsn.mass_downloader import MassDownloader\n",
    "from obspy.clients.fdsn.mass_downloader import Restrictions\n",
    "from obspy import UTCDateTime\n",
    "from obspy.geodetics import calc_vincenty_inverse\n",
    "from obspy.geodetics import locations2degrees\n",
    "from obspy.taup import TauPyModel\n",
    "\n",
    "from obspy.signal.invsim import cosine_sac_taper\n",
    "from obspy.signal.util import _npts2nfft\n",
    "import obspy\n",
    "\n",
    "import matplotlib.pyplot as plt\n",
    "import cartopy.crs as ccrs\n",
    "import cartopy.feature as cfeature\n",
    "import numpy as np"
   ]
  },
  {
   "cell_type": "markdown",
   "metadata": {},
   "source": [
    "# Getting the metadata of the station\n",
    "\n",
    "Using IRIS web service, we can get the information and metadata about the `C0.EBRU` station which was installed in the Colorado School of Mines campus."
   ]
  },
  {
   "cell_type": "code",
   "execution_count": null,
   "metadata": {},
   "outputs": [],
   "source": [
    "cl = Client()\n",
    "\n",
    "inv = cl.get_stations(network=\"C0\", station=\"EBRU\", level=\"response\")\n",
    "inv.write(\"C0.EBRU.xml\", format=\"StationXML\") # writes the metadata as a StationXML file for safekeeping.\n",
    "inv"
   ]
  },
  {
   "cell_type": "code",
   "execution_count": null,
   "metadata": {},
   "outputs": [],
   "source": [
    "inv.plot();"
   ]
  },
  {
   "cell_type": "markdown",
   "metadata": {},
   "source": [
    "## Data Availability\n",
    "We can determine the dates which the data is available from this station by printing out the operating dates of the station."
   ]
  },
  {
   "cell_type": "code",
   "execution_count": null,
   "metadata": {},
   "outputs": [],
   "source": [
    "print(\"|-------------+----------------+---------------|\")\n",
    "print(\"| Channel     |  Start Date    |  End Date     |\")\n",
    "print(\"|-------------+----------------+---------------|\")\n",
    "for network in inv:\n",
    "    for station in network: \n",
    "        for channel in station:\n",
    "            print(f\"| {network.code}.{station.code}.{channel.code} | \",\n",
    "                  channel.start_date.strftime(\"%b %d, %Y\"), \" | \", channel.end_date.strftime(\"%b %d, %Y\"), \"|\")\n",
    "print(\"|-------------+----------------+---------------|\")"
   ]
  },
  {
   "cell_type": "markdown",
   "metadata": {},
   "source": [
    "# Selecting an earthquake\n",
    "\n",
    "We can now search for suitable earthquakes for the selected date range."
   ]
  },
  {
   "cell_type": "code",
   "execution_count": null,
   "metadata": {},
   "outputs": [],
   "source": [
    "t1 = UTCDateTime(\"2020-09-28T00:00:00\")\n",
    "t2 = UTCDateTime(\"2020-10-13T00:00:00\")\n",
    "# t1 = UTCDateTime(\"2021-11-08T00:00:00\")\n",
    "# t2 = UTCDateTime(\"2021-11-23T00:00:00\")\n",
    "cat = cl.get_events(starttime=t1, endtime=t2, minmagnitude=6.0)\n",
    "cat.plot()\n",
    "print(cat)"
   ]
  },
  {
   "cell_type": "markdown",
   "metadata": {},
   "source": [
    "We can decide for an earthquake to investigate. Here by default 4th earthquake is selected."
   ]
  },
  {
   "cell_type": "code",
   "execution_count": null,
   "metadata": {},
   "outputs": [],
   "source": [
    "event = cat[3]\n",
    "origin = event.preferred_origin()\n",
    "\n",
    "sta_coords = inv.get_coordinates(\"C0.EBRU..BHZ\") # gets the coordinates of the station\n",
    "sta_lat = sta_coords[\"latitude\"]\n",
    "sta_lon = sta_coords[\"longitude\"]\n",
    "\n",
    "dist_m, az, baz = calc_vincenty_inverse(\n",
    "    origin.latitude, origin.longitude, sta_lat, sta_lon\n",
    ") # calculates the distance between earthquake and the station in meters, azimuth and back azimuth\n",
    "dist_deg = dist_m/1000/111.111\n",
    "print(f\"Distance: {dist_deg:.2f} deg\")"
   ]
  },
  {
   "cell_type": "code",
   "execution_count": null,
   "metadata": {},
   "outputs": [],
   "source": [
    "fig, ax = plt.subplots(\n",
    "    figsize=(12, 6),\n",
    "    subplot_kw=dict(projection=ccrs.Robinson(central_longitude=origin.longitude)),\n",
    ")\n",
    "ax.set_global()\n",
    "ax.coastlines()\n",
    "ax.add_feature(cfeature.LAND)\n",
    "\n",
    "ax.scatter(origin.longitude, origin.latitude, 200,\n",
    "           marker=\"*\", color=\"red\", transform=ccrs.PlateCarree(), zorder=100)\n",
    "ax.scatter(sta_lon, sta_lat, 200, \n",
    "           marker=\"v\", color=\"blue\", transform=ccrs.PlateCarree(), zorder=100)\n",
    "ax.plot([origin.longitude, sta_lon], [origin.latitude, sta_lat], \"k\",\n",
    "        transform=ccrs.Geodetic()); # plots the ray path"
   ]
  },
  {
   "cell_type": "markdown",
   "metadata": {},
   "source": [
    "# Getting the Waveform Data\n",
    "\n",
    "We can get the waveform data by specifying a time range. Here by default range is selected to start from earthquake origin time and end after 60 minutes."
   ]
  },
  {
   "cell_type": "code",
   "execution_count": null,
   "metadata": {},
   "outputs": [],
   "source": [
    "st = cl.get_waveforms(network=\"C0\", station=\"EBRU\", location=\"\", channel=\"*\", starttime=origin.time, endtime=origin.time+60*60)"
   ]
  },
  {
   "cell_type": "code",
   "execution_count": null,
   "metadata": {},
   "outputs": [],
   "source": [
    "st.write(\"C0.EBRU.mseed\", format=\"mseed\") # save the data for safe keeping"
   ]
  },
  {
   "cell_type": "code",
   "execution_count": null,
   "metadata": {},
   "outputs": [],
   "source": [
    "st = obspy.read(\"C0.EBRU.mseed\") # read the data from the disk"
   ]
  },
  {
   "cell_type": "code",
   "execution_count": null,
   "metadata": {},
   "outputs": [],
   "source": [
    "st.plot();"
   ]
  },
  {
   "cell_type": "markdown",
   "metadata": {},
   "source": [
    "# Processing the data\n",
    "\n",
    "We can now remove the instrument response of the station and filter the data."
   ]
  },
  {
   "cell_type": "code",
   "execution_count": null,
   "metadata": {},
   "outputs": [],
   "source": [
    "st.detrend(\"demean\")\n",
    "st.detrend(\"linear\")\n",
    "st.taper(0.05)\n",
    "\n",
    "min_period = 1.0\n",
    "max_period = 30.0\n",
    "\n",
    "pre_filt = [\n",
    "    0.8 * (1 / max_period),\n",
    "    1 / max_period,\n",
    "    1 / min_period,\n",
    "    1.2 * (1 / min_period),\n",
    "]\n",
    "\n",
    "st.attach_response(inv)\n",
    "st.remove_response(output=\"DISP\", pre_filt=pre_filt,  plot=False)\n",
    "st.plot();"
   ]
  },
  {
   "cell_type": "markdown",
   "metadata": {},
   "source": [
    "We can also rotate the horizontal seismograms to radial and tranverse components."
   ]
  },
  {
   "cell_type": "code",
   "execution_count": null,
   "metadata": {},
   "outputs": [],
   "source": [
    "st.rotate(\"->ZNE\", inventory=inv) # This ensures using North-South, East-West components\n",
    "st.rotate(\"NE->RT\", back_azimuth=baz)\n",
    "st.plot();"
   ]
  },
  {
   "cell_type": "markdown",
   "metadata": {},
   "source": [
    "# Looking at specific phases"
   ]
  },
  {
   "cell_type": "code",
   "execution_count": null,
   "metadata": {},
   "outputs": [],
   "source": [
    "taup_model = TauPyModel(\"iasp91\")\n",
    "arrivals = taup_model.get_travel_times_geo(\n",
    "    origin.depth / 1000, origin.latitude, origin.longitude, sta_lat, sta_lon, phase_list=(\"P\", \"S\")\n",
    ")\n",
    "for arrival in arrivals:\n",
    "    print(arrival)\n",
    "\n",
    "arr = arrivals[0]\n",
    "arr2 = arrivals[1]\n",
    "fig, axes = plt.subplots(figsize=(16, 9), nrows=3, sharex=True)\n",
    "\n",
    "for ax, tr in zip(axes, st):\n",
    "    ax.plot(tr.times(), tr.data, \"k\", label=tr.id)\n",
    "    ax.axvline(arr.time)\n",
    "    ax.text(arr.time, ax.get_ylim()[1], arr.name)\n",
    "    ax.axvline(arr2.time, color=\"r\")\n",
    "    ax.text(arr2.time, ax.get_ylim()[1], arr2.name)\n",
    "    ax.legend(loc=\"upper left\")\n",
    "    \n",
    "ax.set_xlim(tr.times()[0], tr.times()[-1])\n",
    "ax.set_xlabel(\"Time (s)\")\n",
    "fig.tight_layout()"
   ]
  },
  {
   "cell_type": "code",
   "execution_count": null,
   "metadata": {},
   "outputs": [],
   "source": [
    "ray_paths = taup_model.get_ray_paths(origin.depth/1000,  dist_deg, phase_list=(\"ttall\", ))\n",
    "fig, ax = plt.subplots(figsize=(12, 12), subplot_kw=dict(polar=True))\n",
    "\n",
    "ray_paths.plot_rays(ax=ax, legend=True);"
   ]
  }
 ],
 "metadata": {
  "kernelspec": {
   "display_name": "Python 3 (ipykernel)",
   "language": "python",
   "name": "python3"
  },
  "language_info": {
   "codemirror_mode": {
    "name": "ipython",
    "version": 3
   },
   "file_extension": ".py",
   "mimetype": "text/x-python",
   "name": "python",
   "nbconvert_exporter": "python",
   "pygments_lexer": "ipython3",
   "version": "3.10.8"
  }
 },
 "nbformat": 4,
 "nbformat_minor": 4
}
